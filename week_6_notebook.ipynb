{
 "cells": [
  {
   "cell_type": "markdown",
   "id": "12f48205-51d5-491c-89ca-daf748cfe614",
   "metadata": {},
   "source": [
    "Oceanography python bootcamp, Winter 2025\n",
    "# Week 6 notebook"
   ]
  },
  {
   "cell_type": "code",
   "execution_count": null,
   "id": "b1fe4448-ab9d-4883-88bc-3577559b7dff",
   "metadata": {},
   "outputs": [],
   "source": [
    "import numpy as np\n",
    "import pandas as pd\n",
    "import xarray as xr\n",
    "\n",
    "import matplotlib as mpl\n",
    "import matplotlib.pyplot as plt\n",
    "import cmocean.cm as cmo\n",
    "import cartopy.crs as ccrs\n",
    "import cartopy.feature as cfeature\n",
    "\n",
    "import scipy.interpolate as sint\n",
    "from scipy.optimize import curve_fit\n",
    "\n",
    "pd.set_option(\"mode.copy_on_write\", True)"
   ]
  },
  {
   "cell_type": "code",
   "execution_count": null,
   "id": "18e072eb-7fb2-4c70-bd2c-52b0abd33a9b",
   "metadata": {},
   "outputs": [],
   "source": [
    "import week6_magic as magic"
   ]
  },
  {
   "cell_type": "markdown",
   "id": "ea91e106-dd1b-46f2-97ad-1aa6edcba2b9",
   "metadata": {},
   "source": [
    "## One-dimensional interpolation and curve fitting"
   ]
  },
  {
   "cell_type": "markdown",
   "id": "929d74cb-4148-4df1-8888-78e9c2ce11eb",
   "metadata": {
    "jp-MarkdownHeadingCollapsed": true
   },
   "source": [
    "### Univariate interpolation"
   ]
  },
  {
   "cell_type": "code",
   "execution_count": null,
   "id": "246ae0c8-5998-4c74-9864-3aae8ec4934f",
   "metadata": {},
   "outputs": [],
   "source": [
    "# loading test data\n",
    "x_samples = magic.interp_1d_samp_x.copy()\n",
    "y_samples = magic.interp_1d_samp_y.copy()"
   ]
  },
  {
   "cell_type": "code",
   "execution_count": null,
   "id": "26649091-59c4-4b8e-83d6-37bd57b74b4d",
   "metadata": {},
   "outputs": [],
   "source": [
    "# plot the test data\n",
    "\n",
    "fig = plt.figure()\n",
    "ax = fig.add_subplot()\n",
    "\n",
    "ax.set_xlim(0, 10)\n",
    "ax.set_ylim(0, 1.2)\n",
    "\n",
    "ax.set_title(\"Test data for 1D interpolation\")\n",
    "\n",
    "ax.scatter(x_samples, y_samples, c = \"black\")\n",
    "\n",
    "plt.show()"
   ]
  },
  {
   "cell_type": "code",
   "execution_count": null,
   "id": "34a60939-f61c-4860-9b31-a550151ca64a",
   "metadata": {},
   "outputs": [],
   "source": [
    "# make linear (k = 1) and cubic (k = 3) interpolations\n",
    "lin_interp = sint.InterpolatedUnivariateSpline(x_samples, y_samples, k=1)\n",
    "cubic_interp = sint.InterpolatedUnivariateSpline(x_samples, y_samples, k=3)"
   ]
  },
  {
   "cell_type": "code",
   "execution_count": null,
   "id": "2231263c-50f5-48c3-bdbd-ebc7fbd02c7e",
   "metadata": {},
   "outputs": [],
   "source": [
    "# evaluate the interpolated function on plotting grid\n",
    "x_range = np.linspace(0, 10, 101)\n",
    "y_linear = lin_interp(x_range)\n",
    "y_cubic = cubic_interp(x_range)"
   ]
  },
  {
   "cell_type": "code",
   "execution_count": null,
   "id": "b8ada59f-6e75-4482-bf9f-d88dc910db3f",
   "metadata": {},
   "outputs": [],
   "source": [
    "# plot the test data and the interpolations\n",
    "\n",
    "fig = plt.figure()\n",
    "ax = fig.add_subplot()\n",
    "\n",
    "ax.set_xlim(0, 10)\n",
    "ax.set_ylim(0, 1.2)\n",
    "\n",
    "ax.set_title(\"Test data and 1D interpolations\")\n",
    "\n",
    "ax.plot(x_range, y_linear, ls=\":\", label=\"linear\")\n",
    "ax.plot(x_range, y_cubic, ls=\"--\", label=\"cubic\")\n",
    "ax.scatter(x_samples, y_samples, c=\"black\", label=\"data\")\n",
    "\n",
    "ax.legend()\n",
    "\n",
    "plt.show()"
   ]
  },
  {
   "cell_type": "code",
   "execution_count": null,
   "id": "9aa67371-e5d2-4bc4-9145-8dc42ee2b125",
   "metadata": {},
   "outputs": [],
   "source": [
    "# evaluating the \"ground truth\" function at the plot points\n",
    "y_truth = magic.interp_1d_truth(x_range)\n",
    "\n",
    "# plot the test data, interpolations, and ground truth\n",
    "\n",
    "fig = plt.figure()\n",
    "ax = fig.add_subplot()\n",
    "\n",
    "ax.set_xlim(0, 10)\n",
    "ax.set_ylim(0, 1.2)\n",
    "\n",
    "ax.set_title(\"Test data, 1D interpolations, and ground truth\")\n",
    "\n",
    "ax.plot(x_range, y_truth, c=\"green\", label=\"ground truth\")\n",
    "ax.plot(x_range, y_linear, ls=\":\", label=\"linear\")\n",
    "ax.plot(x_range, y_cubic, ls=\"--\", label=\"cubic\")\n",
    "ax.scatter(x_samples, y_samples, c=\"black\", label=\"data\")\n",
    "\n",
    "ax.legend()\n",
    "\n",
    "plt.show()"
   ]
  },
  {
   "cell_type": "code",
   "execution_count": null,
   "id": "c17c7754-c8fc-4939-9225-64a884fd5de4",
   "metadata": {},
   "outputs": [],
   "source": [
    "# computing derivative (as function)\n",
    "lin_deriv = lin_interp.derivative()\n",
    "cubic_deriv = cubic_interp.derivative()\n",
    "\n",
    "# evaluating at the plot points\n",
    "y_truth_der = magic.interp_1d_truth_der(x_range)\n",
    "y_lin_der = lin_deriv(x_range)\n",
    "y_cubic_der = cubic_deriv(x_range)\n",
    "\n",
    "# ploting the derivatives\n",
    "\n",
    "fig = plt.figure()\n",
    "ax = fig.add_subplot()\n",
    "\n",
    "ax.set_xlim(0, 10)\n",
    "\n",
    "ax.set_title(\"Test data, 1D interpolations, and ground truth\")\n",
    "\n",
    "ax.plot(x_range, y_truth_der, c=\"green\", label=\"ground truth\")\n",
    "ax.plot(x_range, y_lin_der, ls=\":\", label=\"linear\")\n",
    "ax.plot(x_range, y_cubic_der, ls=\"--\", label=\"cubic\")\n",
    "\n",
    "ax.legend()\n",
    "\n",
    "plt.show()"
   ]
  },
  {
   "cell_type": "code",
   "execution_count": null,
   "id": "99b08854-3b32-44e5-b833-e257c07be15d",
   "metadata": {},
   "outputs": [],
   "source": [
    "# computing definite integral\n",
    "\n",
    "cubic_intg = cubic_interp.integral(x_samples[0], x_samples[-1])\n",
    "print(f\"Integral (cubic interpolation): {cubic_intg:.5f}\")"
   ]
  },
  {
   "cell_type": "markdown",
   "id": "555c4b60-919f-40ca-9a80-4e62020975a0",
   "metadata": {
    "jp-MarkdownHeadingCollapsed": true
   },
   "source": [
    "### Univariate spline curve fitting"
   ]
  },
  {
   "cell_type": "code",
   "execution_count": null,
   "id": "c7d2e489-8a17-42e2-8c2b-bedadd86a4d7",
   "metadata": {},
   "outputs": [],
   "source": [
    "# loading test data\n",
    "x_samples = magic.fit_1d_samp_x.copy()\n",
    "y_samples = magic.fit_1d_samp_y.copy()"
   ]
  },
  {
   "cell_type": "code",
   "execution_count": null,
   "id": "3d4a6942-6ae9-49c6-918a-30d694c4561d",
   "metadata": {},
   "outputs": [],
   "source": [
    "# plot the test data\n",
    "\n",
    "fig = plt.figure()\n",
    "ax = fig.add_subplot()\n",
    "\n",
    "ax.scatter(x_samples, y_samples, c=\"k\", marker=\"x\")\n",
    "\n",
    "plt.show()"
   ]
  },
  {
   "cell_type": "code",
   "execution_count": null,
   "id": "e871e602-14ae-4d14-97a6-923cac96b9cc",
   "metadata": {},
   "outputs": [],
   "source": [
    "# trying different uncertainty (0.1, 0.2, 0.5) when fitting\n",
    "\n",
    "cubic_fit_under = sint.UnivariateSpline(\n",
    "    x_samples, y_samples, \n",
    "    w = np.full_like(x_samples, 1/0.5), k = 3, s = len(x_samples)\n",
    ")\n",
    "cubic_fit_mid   = sint.UnivariateSpline(\n",
    "    x_samples, y_samples, \n",
    "    w = np.full_like(x_samples, 1/0.2), k = 3, s = len(x_samples)\n",
    ")\n",
    "cubic_fit_over  = sint.UnivariateSpline(\n",
    "    x_samples, y_samples, \n",
    "    w = np.full_like(x_samples, 1/0.1), k = 3, s = len(x_samples)\n",
    ")"
   ]
  },
  {
   "cell_type": "code",
   "execution_count": null,
   "id": "a3de6183-9200-4c14-b698-5923d39e6ecd",
   "metadata": {},
   "outputs": [],
   "source": [
    "# compute x and y values for fitted spline\n",
    "x_range = np.linspace(0, 10, 201)\n",
    "y_cubic_under = cubic_fit_under(x_range)\n",
    "y_cubic_mid = cubic_fit_mid(x_range)\n",
    "y_cubic_over = cubic_fit_over(x_range)"
   ]
  },
  {
   "cell_type": "code",
   "execution_count": null,
   "id": "851f977d-dbdb-4961-a0e2-bdcdd78642c8",
   "metadata": {},
   "outputs": [],
   "source": [
    "# plot the test data with fit\n",
    "\n",
    "fig = plt.figure()\n",
    "ax = fig.add_subplot()\n",
    "\n",
    "ax.plot(x_range, y_cubic_mid, ls=\"-.\", label=\"balanced fit\")\n",
    "ax.plot(x_range, y_cubic_under, ls=\":\", label=\"underfit\")\n",
    "ax.plot(x_range, y_cubic_over, ls=\"--\", label=\"overfit\")\n",
    "\n",
    "ax.scatter(x_samples, y_samples, c=\"k\", marker=\"x\")\n",
    "\n",
    "ax.legend()\n",
    "\n",
    "plt.show()"
   ]
  },
  {
   "cell_type": "code",
   "execution_count": null,
   "id": "7986d7b7-91c6-4082-9f9f-8579ef9d7ad7",
   "metadata": {},
   "outputs": [],
   "source": [
    "# check with ground truth\n",
    "y_truth = magic.fit_1d_truth(x_range)"
   ]
  },
  {
   "cell_type": "code",
   "execution_count": null,
   "id": "40ff2393-9190-46ae-90b7-8c75e2a6d49c",
   "metadata": {},
   "outputs": [],
   "source": [
    "# plot the test data, fit, and ground truth\n",
    "\n",
    "fig = plt.figure()\n",
    "ax = fig.add_subplot()\n",
    "\n",
    "ax.plot(x_range, y_cubic_mid, ls=\"-.\", label=\"balanced fit\")\n",
    "ax.plot(x_range, y_cubic_under, ls=\":\", label=\"underfit\")\n",
    "ax.plot(x_range, y_cubic_over, ls=\"--\", label=\"overfit\")\n",
    "ax.plot(x_range, y_truth, ls=\"-\", label=\"ground truth\")\n",
    "\n",
    "ax.scatter(x_samples, y_samples, c=\"k\", marker=\"x\")\n",
    "\n",
    "ax.legend()\n",
    "\n",
    "plt.show()"
   ]
  },
  {
   "cell_type": "code",
   "execution_count": null,
   "id": "4d61e324-a9b2-4ed3-a98d-73075217e14b",
   "metadata": {},
   "outputs": [],
   "source": [
    "# determine the best smoothness parameter self-consistently\n",
    "\n",
    "cubic_fit_auto = sint.make_smoothing_spline(x_samples, y_samples)\n",
    "y_cubic_auto = cubic_fit_auto(x_range)"
   ]
  },
  {
   "cell_type": "code",
   "execution_count": null,
   "id": "3a2df96c-0fe3-47bf-be41-f7c42e55162a",
   "metadata": {},
   "outputs": [],
   "source": [
    "# plot the test data with the self-consistent fit\n",
    "\n",
    "fig = plt.figure()\n",
    "ax = fig.add_subplot()\n",
    "\n",
    "ax.plot(x_range, y_cubic_auto, ls=\"-.\", label=\"auto fit\")\n",
    "ax.plot(x_range, y_truth, ls=\"-\", color=\"tab:red\", label=\"ground truth\")\n",
    "\n",
    "ax.scatter(x_samples, y_samples, c=\"k\", marker=\"x\")\n",
    "\n",
    "ax.legend()\n",
    "\n",
    "plt.show()"
   ]
  },
  {
   "cell_type": "code",
   "execution_count": null,
   "id": "3bacae39-4a37-48eb-bc47-47831a96fd52",
   "metadata": {},
   "outputs": [],
   "source": [
    "# function to compute residual for output of make_smoothing_spline()\n",
    "\n",
    "def get_residual(x, y, spl, w=None):\n",
    "    '''\n",
    "    get the residual (weighed sum of |y - spl(x)|**2) of the smoothing spline\n",
    "\n",
    "    arguments:\n",
    "      x: a numpy array of independent variables\n",
    "      y: a numpy array (shape matching x) of dependent varibles\n",
    "      w: the weight vector (shape matching x). \n",
    "        If None defaults to np.ones_like(x)\n",
    "      spl: the BSpline object representing data fit\n",
    "\n",
    "    output:\n",
    "      the weighted sum of residuals (sum is over axis zero).\n",
    "    '''\n",
    "    if w is None:\n",
    "        w = np.ones_like(x)\n",
    "    \n",
    "    return np.sum(w * (y - spl(x))**2, axis=0)"
   ]
  },
  {
   "cell_type": "code",
   "execution_count": null,
   "id": "638248bb-810a-408e-8a70-edb867300e65",
   "metadata": {},
   "outputs": [],
   "source": [
    "# calculate the total residual\n",
    "\n",
    "auto_residual = get_residual(x_samples, y_samples, cubic_fit_auto)\n",
    "print(auto_residual)"
   ]
  },
  {
   "cell_type": "code",
   "execution_count": null,
   "id": "cbe903fd-9a27-4f97-9fcb-471830896e45",
   "metadata": {},
   "outputs": [],
   "source": [
    "# calculate the uncertainty\n",
    "\n",
    "auto_std = np.sqrt(auto_residual / len(x_samples))\n",
    "print(auto_std)"
   ]
  },
  {
   "cell_type": "markdown",
   "id": "5a005a95-db37-406c-aaaf-c78b8dd08fb2",
   "metadata": {
    "jp-MarkdownHeadingCollapsed": true
   },
   "source": [
    "### Weighed univariate spline curve fitting"
   ]
  },
  {
   "cell_type": "code",
   "execution_count": null,
   "id": "6b8c60f5-ab86-4d6b-bebf-29c8f63da902",
   "metadata": {},
   "outputs": [],
   "source": [
    "# dataset with non-uniform error bar\n",
    "x_samples = magic.fit_1d_w_samp_x.copy()\n",
    "y_samples = magic.fit_1d_w_samp_y.copy()\n",
    "y_errors = magic.fit_1d_weights.copy()"
   ]
  },
  {
   "cell_type": "code",
   "execution_count": null,
   "id": "fcd7711f-5edb-4a10-81b7-0007aba395c4",
   "metadata": {},
   "outputs": [],
   "source": [
    "# plot the test data with fit\n",
    "\n",
    "fig = plt.figure()\n",
    "ax = fig.add_subplot()\n",
    "\n",
    "ax.errorbar(\n",
    "    x_samples, y_samples, y_errors, \n",
    "    color=\"k\", ls=\"none\", marker=\"x\", \n",
    "    capsize=4, ecolor=\"gray\", label=\"data\"\n",
    ")\n",
    "\n",
    "ax.legend()\n",
    "\n",
    "plt.show()"
   ]
  },
  {
   "cell_type": "code",
   "execution_count": null,
   "id": "49d94079-6ac0-4ccf-b0a3-777eaa77b8d2",
   "metadata": {},
   "outputs": [],
   "source": [
    "# determine best-fitted UNWEIGHED spline\n",
    "y_errors_avg = np.mean(y_errors)\n",
    "cubic_fit_unweighed = sint.UnivariateSpline(\n",
    "    x_samples, y_samples, w=np.full_like(x_samples, 1/y_errors_avg), k=3, s=len(x_samples)\n",
    ")\n",
    "\n",
    "# create x and y values at plot points\n",
    "x_range = np.linspace(0, 10, 201)\n",
    "y_cubic_unweighed = cubic_fit_unweighed(x_range)"
   ]
  },
  {
   "cell_type": "code",
   "execution_count": null,
   "id": "33116d0f-b349-490b-a834-d9a7b088a436",
   "metadata": {},
   "outputs": [],
   "source": [
    "# determine best-fitted WEIGHED spline\n",
    "cubic_fit_weighed = sint.UnivariateSpline(x_samples, y_samples, w=1/y_errors, k=3, s=len(x_samples))\n",
    "\n",
    "# create x and y values at plot points\n",
    "x_range = np.linspace(0, 10, 201)\n",
    "y_cubic_weighed = cubic_fit_weighed(x_range)"
   ]
  },
  {
   "cell_type": "code",
   "execution_count": null,
   "id": "6f2f10a8-cc91-4f17-9171-6f1a6b4e1e93",
   "metadata": {},
   "outputs": [],
   "source": [
    "# plot the test data with fit\n",
    "\n",
    "fig = plt.figure()\n",
    "ax = fig.add_subplot()\n",
    "\n",
    "ax.errorbar(\n",
    "    x_samples, y_samples, y_errors, \n",
    "    color=\"k\", ls=\"none\", marker=\"x\", \n",
    "    capsize=4, ecolor=\"gray\", label=\"data\"\n",
    ")\n",
    "ax.plot(x_range, y_cubic_unweighed, ls=\"-.\", c=\"tab:blue\", label=\"unweighed\")\n",
    "ax.plot(x_range, y_cubic_weighed, ls=\"--\", c=\"tab:red\", label=\"weighed\")\n",
    "\n",
    "ax.legend()\n",
    "\n",
    "plt.show()"
   ]
  },
  {
   "cell_type": "markdown",
   "id": "2a46af2f-2172-4162-9eaa-54afb65ba919",
   "metadata": {
    "jp-MarkdownHeadingCollapsed": true
   },
   "source": [
    "### Univariate fit to theoretical model"
   ]
  },
  {
   "cell_type": "code",
   "execution_count": null,
   "id": "37d44c10-e464-4da0-a430-0bd31c58ca12",
   "metadata": {},
   "outputs": [],
   "source": [
    "# loading test data\n",
    "x_samples = magic.theory_1d_samp_x.copy()\n",
    "y_samples = magic.theory_1d_samp_y.copy()"
   ]
  },
  {
   "cell_type": "code",
   "execution_count": null,
   "id": "8e097aef-5ec5-4b19-8853-248ff73fbf89",
   "metadata": {},
   "outputs": [],
   "source": [
    "# plot the test data\n",
    "\n",
    "fig = plt.figure()\n",
    "ax = fig.add_subplot()\n",
    "\n",
    "ax.scatter(x_samples, y_samples, c=\"k\", marker=\"x\")\n",
    "\n",
    "plt.show()"
   ]
  },
  {
   "cell_type": "code",
   "execution_count": null,
   "id": "9b4367ba-45b4-416b-8bdc-dd634c1cd6f7",
   "metadata": {},
   "outputs": [],
   "source": [
    "# define a \"theoretical curve\" with parameters a, b, c to be determined\n",
    "\n",
    "def f_theory(x, a, b, c):\n",
    "    return a + b * np.exp(-c * x)"
   ]
  },
  {
   "cell_type": "code",
   "execution_count": null,
   "id": "66c6cd3e-1c5f-43a9-af83-b6a57b3fc13b",
   "metadata": {},
   "outputs": [],
   "source": [
    "# find the paramters for best-fitted curve\n",
    "out = curve_fit(f_theory, x_samples, y_samples)\n",
    "out"
   ]
  },
  {
   "cell_type": "code",
   "execution_count": null,
   "id": "dde86636-f8ac-488b-99c3-65b7b8e3cde9",
   "metadata": {},
   "outputs": [],
   "source": [
    "# evaluate the fitted value on plot points\n",
    "\n",
    "x_range = np.linspace(0, 10, 201)\n",
    "y_fitted = f_theory(x_range, out[0][0], out[0][1], out[0][2])"
   ]
  },
  {
   "cell_type": "code",
   "execution_count": null,
   "id": "6891a5ca-f151-45f8-b446-ef484ba4f305",
   "metadata": {},
   "outputs": [],
   "source": [
    "# plot the theory fit against data\n",
    "\n",
    "fig = plt.figure()\n",
    "ax = fig.add_subplot()\n",
    "\n",
    "ax.plot(x_range, y_fitted, ls=\"-.\", label=\"fit\")\n",
    "ax.scatter(x_samples, y_samples, c=\"k\", marker=\"x\", label=\"data\")\n",
    "\n",
    "ax.legend()\n",
    "\n",
    "plt.show()"
   ]
  },
  {
   "cell_type": "code",
   "execution_count": null,
   "id": "3697445a-3e82-440c-a44d-5b1f80c442cf",
   "metadata": {},
   "outputs": [],
   "source": [
    "# get the ground truth\n",
    "\n",
    "y_truth = magic.theory_1d_truth(x_range)\n",
    "\n",
    "# plot data, fit, and ground truth\n",
    "\n",
    "fig = plt.figure()\n",
    "ax = fig.add_subplot()\n",
    "\n",
    "ax.plot(x_range, y_fitted, ls=\"-.\", label=\"fit\")\n",
    "ax.plot(x_range, y_truth, ls=\"-\", c=\"tab:red\", label=\"ground truth\")\n",
    "ax.scatter(x_samples, y_samples, c=\"k\", marker=\"x\", label=\"data\")\n",
    "\n",
    "ax.legend()\n",
    "\n",
    "plt.show()"
   ]
  },
  {
   "cell_type": "code",
   "execution_count": null,
   "id": "09a9c305-5a74-4f6f-a08f-d7c4c9967c8b",
   "metadata": {},
   "outputs": [],
   "source": [
    "# show the estimated parameters again\n",
    "out[0]"
   ]
  },
  {
   "cell_type": "code",
   "execution_count": null,
   "id": "b82b5dec-c925-4b44-ab4a-831b475e14ef",
   "metadata": {},
   "outputs": [],
   "source": [
    "# check with ground truth\n",
    "magic.theory_1d_params_truth"
   ]
  },
  {
   "cell_type": "code",
   "execution_count": null,
   "id": "25936c14-339c-423e-90fd-80ff8ef18cfd",
   "metadata": {},
   "outputs": [],
   "source": [
    "# show the estimated std in parameters\n",
    "params_std = np.sqrt(np.diag(out[1]))\n",
    "params_std"
   ]
  },
  {
   "cell_type": "code",
   "execution_count": null,
   "id": "921abd8f-1350-4218-8282-2d8ac17ebfed",
   "metadata": {},
   "outputs": [],
   "source": [
    "# we expect the deviation from ground thuth to be approximately 1 sd\n",
    "(out[0] - np.array(magic.theory_1d_params_truth)) / params_std"
   ]
  },
  {
   "cell_type": "code",
   "execution_count": null,
   "id": "31a11ea9-aaf7-4afe-84d9-c904c6eed264",
   "metadata": {},
   "outputs": [],
   "source": [
    "# full output mode\n",
    "full_out = curve_fit(f_theory, x_samples, y_samples, full_output=True)\n",
    "full_out"
   ]
  },
  {
   "cell_type": "code",
   "execution_count": null,
   "id": "744a3817-d5e2-48ed-bb04-77455f14d68b",
   "metadata": {},
   "outputs": [],
   "source": [
    "# compute residual\n",
    "residual = np.sum(full_out[2][\"fvec\"] **2)\n",
    "\n",
    "print(residual)\n",
    "\n",
    "# compute estimated standard deviation\n",
    "std = np.sqrt(residual / len(x_samples))\n",
    "\n",
    "print(std)"
   ]
  },
  {
   "cell_type": "code",
   "execution_count": null,
   "id": "c0b90304-ccf8-4c4c-8867-5da5c836397d",
   "metadata": {},
   "outputs": [],
   "source": [
    "# check with ground truth\n",
    "magic.theory_1d_noise_sd"
   ]
  },
  {
   "cell_type": "markdown",
   "id": "5dcde9a5-f00a-49de-94ca-e8ae49df89d9",
   "metadata": {
    "jp-MarkdownHeadingCollapsed": true
   },
   "source": [
    "### Exercise 1"
   ]
  },
  {
   "cell_type": "markdown",
   "id": "a051838a-5df4-4425-8dff-3b52f60d12b6",
   "metadata": {},
   "source": [
    "_**Code writing #1.**_ Corrupted ERIS data\n",
    "\n",
    "The file ERIS_corrupted.csv on the data folder contains data collected by the CTD instrument from the UW ERIS program. About 15% of the data is missing.* We’ll focus on turbidity and use interpolation to fill in the missing data. The procedure is as follows:\n",
    "\n",
    "1. Separate the data into two parts: those that are missing and those that are present (hint: use `pd.isna()` and `pd.notna()`)\n",
    "2. Create the spline function from the data present (hint: use `.astype(\"int64\")` to convert date to numerical values)\n",
    "3. Use the spline function to fill in turbidity values for the dates with missing data\n",
    "4. Combine the data present and the interpolated data, and plot the results (hint: use `pd.concat()`)"
   ]
  },
  {
   "cell_type": "code",
   "execution_count": null,
   "id": "2e80e521-406a-4414-9c70-8ff127cf8697",
   "metadata": {},
   "outputs": [],
   "source": [
    "# starter code: load the \"corrupted\" ERIS data\n",
    "\n",
    "eris = pd.read_csv(\"data/ERIS_corrupted.csv\").convert_dtypes()\n",
    "eris[\"date\"] = pd.to_datetime(eris[\"date\"])"
   ]
  },
  {
   "cell_type": "code",
   "execution_count": null,
   "id": "9c1839a5-6154-41c3-8e4b-3c0d508afe2e",
   "metadata": {},
   "outputs": [],
   "source": [
    "# starter code: plot turbidity from the corrupted data\n",
    "\n",
    "fig = plt.figure()\n",
    "ax = fig.add_subplot()\n",
    "\n",
    "ax.plot(eris[\"date\"], eris[\"turbidity\"], color=\"tab:blue\")\n",
    "ax.tick_params(\"x\", rotation=-45)\n",
    "\n",
    "plt.show(fig)"
   ]
  },
  {
   "cell_type": "code",
   "execution_count": null,
   "id": "dad315aa-fde0-4997-8f4d-17f8e1f12569",
   "metadata": {},
   "outputs": [],
   "source": [
    "# step 1: seperate the data into two parts"
   ]
  },
  {
   "cell_type": "code",
   "execution_count": null,
   "id": "36211d21-6165-4304-9676-96c5e15d1e37",
   "metadata": {},
   "outputs": [],
   "source": [
    "# step 2: construct spline from data that aren't NAs"
   ]
  },
  {
   "cell_type": "code",
   "execution_count": null,
   "id": "faba6eb8-9c93-4151-b1bf-4ddc80ea1bb4",
   "metadata": {},
   "outputs": [],
   "source": [
    "# step 3: filling in the turbidity values for dates with NAs"
   ]
  },
  {
   "cell_type": "code",
   "execution_count": null,
   "id": "82285e9a-4555-4b6d-b0d6-57d26b336b86",
   "metadata": {},
   "outputs": [],
   "source": [
    "# step 4: recombine the two parts and plot the result again"
   ]
  },
  {
   "cell_type": "code",
   "execution_count": null,
   "id": "b7b10083-fb23-4e5f-b372-0c405d65f08c",
   "metadata": {},
   "outputs": [],
   "source": [
    "# starter code: plotting the repaired turbidity data\n",
    "\n",
    "fig = plt.figure()\n",
    "ax = fig.add_subplot()\n",
    "\n",
    "ax.plot(eris_repaired[\"date\"], eris_repaired[\"turbidity\"], ls=\"--\", color=\"tab:red\", label=\"interpolated\")\n",
    "ax.plot(eris[\"date\"], eris[\"turbidity\"], color=\"tab:blue\", label=\"original data\")\n",
    "\n",
    "ax.tick_params(\"x\", rotation=-75)\n",
    "ax.legend()\n",
    "\n",
    "plt.show(fig)"
   ]
  },
  {
   "cell_type": "markdown",
   "id": "12f7c9d5-f458-4e6a-98d0-77d9fcb2429f",
   "metadata": {
    "jp-MarkdownHeadingCollapsed": true
   },
   "source": [
    "### Exercise 2"
   ]
  },
  {
   "attachments": {},
   "cell_type": "markdown",
   "id": "b3820b25-98b0-4121-89a2-ae5a2a71939b",
   "metadata": {
    "jp-MarkdownHeadingCollapsed": true
   },
   "source": [
    "_**Code Writing #2.**_ Keeling curve\n",
    "\n",
    "The file monthly_in_situ_co2_mlo.csv contains the famous Keeling curve data. Focus on the raw observational data (column CO2) versus date and fit the result to two possible model\n",
    "\n",
    "a. $\\textrm{[CO$_2$]} = a + b \\ (\\textrm{Year} − 1970)$<br>\n",
    "b. $\\textrm{[CO$_2$]} = a + b \\ (\\textrm{Year} − 1970) + c \\ (\\textrm{Year} − 1970)^2$\n",
    "\n",
    "\n",
    "We’ll proceed as follows:\n",
    "\n",
    "1. Define two functions that corresponds to the two model\n",
    "1. Use `curve_fit()` to find the best-fit parameters of the two models, and their uncertainties\n",
    "1. Plot the two best-fit curves against observation data\n",
    "1. Comment on whether the increase in atmospheric carbon is _accelerating_ or not"
   ]
  },
  {
   "cell_type": "code",
   "execution_count": null,
   "id": "34b20a07-e1a2-4f8c-8482-a2bf13b73c70",
   "metadata": {},
   "outputs": [],
   "source": [
    "# starter code: load the keeling curve data\n",
    "keeling = pd.read_csv(\n",
    "    \"data/monthly_in_situ_co2_mlo.csv\",\n",
    "    names = [ # specifying column name to avoid issues\n",
    "        \"year\", \"month\", \"date_excel\", \"date\", \n",
    "        \"CO2\", \"CO2_adj\", \"CO2_fitted\", \"CO2_adj_fitted\",\n",
    "        \"CO2_filled\", \"CO2_adj_filled\", \"station\"\n",
    "    ], skiprows=64\n",
    ").convert_dtypes()\n",
    "\n",
    "# skip to largest block without NAs\n",
    "keeling = keeling[\n",
    "    np.logical_and(keeling[\"year\"] > 1964, keeling[\"year\"] < 2025)\n",
    "]"
   ]
  },
  {
   "cell_type": "code",
   "execution_count": null,
   "id": "24bec892-6843-4555-92ff-41c9bafd74d7",
   "metadata": {},
   "outputs": [],
   "source": [
    "# starter code: plot the raw data\n",
    "\n",
    "fig = plt.figure()\n",
    "ax = fig.add_subplot()\n",
    "\n",
    "ax.plot(keeling[\"date\"], keeling[\"CO2\"])\n",
    "\n",
    "ax.set_xlabel(\"year\")\n",
    "ax.set_ylabel(\"atmospheric CO$_2$ (ppm)\")\n",
    "\n",
    "plt.show(fig)"
   ]
  },
  {
   "cell_type": "code",
   "execution_count": null,
   "id": "9aa04d8b-b8a8-49c6-9e62-a6b429d5fc32",
   "metadata": {},
   "outputs": [],
   "source": [
    "# step 1: define two functions for the two models"
   ]
  },
  {
   "cell_type": "code",
   "execution_count": null,
   "id": "2341e1f2-fed0-4759-90f0-80cf66cb7d61",
   "metadata": {},
   "outputs": [],
   "source": [
    "# step 2: perform curve fit, extract parameters and their uncertainties"
   ]
  },
  {
   "cell_type": "code",
   "execution_count": null,
   "id": "97eedd9d-08ed-4737-ae13-22d744006db7",
   "metadata": {},
   "outputs": [],
   "source": [
    "# step 3: plot the best-fit curves against obvervation data"
   ]
  },
  {
   "cell_type": "code",
   "execution_count": null,
   "id": "447e2818-1488-4163-8c3a-9138d7a3f468",
   "metadata": {},
   "outputs": [],
   "source": [
    "# step 4: comment on acceleration"
   ]
  },
  {
   "cell_type": "markdown",
   "id": "bab04ed4-c220-400f-8f62-c436eb3c7f82",
   "metadata": {},
   "source": [
    "## Interpolation and curve fitting in higher dimensions"
   ]
  },
  {
   "cell_type": "markdown",
   "id": "010cedf9-d774-42cb-aacc-dc941741ed08",
   "metadata": {
    "jp-MarkdownHeadingCollapsed": true
   },
   "source": [
    "### Interpolating 2D temperature grid"
   ]
  },
  {
   "cell_type": "code",
   "execution_count": null,
   "id": "f0553cd8-854e-4407-8153-9e320323d875",
   "metadata": {},
   "outputs": [],
   "source": [
    "# load temperature meaurement on regular grid\n",
    "\n",
    "x_loc = magic.x_temp_loc.copy()\n",
    "y_loc = magic.y_temp_loc.copy()\n",
    "x_grid, y_grid = np.meshgrid(x_loc, y_loc)\n",
    "temp_grid = magic.temp_grid.copy()"
   ]
  },
  {
   "cell_type": "code",
   "execution_count": null,
   "id": "4be08d3d-7cd0-4576-a9e7-21443e4052a0",
   "metadata": {},
   "outputs": [],
   "source": [
    "# check the shape of data\n",
    "\n",
    "print(x_loc.shape, y_loc.shape, x_grid.shape, y_grid.shape, temp_grid.shape)"
   ]
  },
  {
   "cell_type": "code",
   "execution_count": null,
   "id": "3b94b45d-d879-4b36-a3cd-e96a7015ca8e",
   "metadata": {},
   "outputs": [],
   "source": [
    "# load the path on which we need to interpolate\n",
    "\n",
    "t_path = magic.t_path.copy()\n",
    "x_path = magic.x_path.copy()\n",
    "y_path = magic.y_path.copy()"
   ]
  },
  {
   "cell_type": "code",
   "execution_count": null,
   "id": "c39c86aa-0080-4ef0-bc72-cec572396d18",
   "metadata": {},
   "outputs": [],
   "source": [
    "# check the shape of the path variables\n",
    "\n",
    "print(t_path.shape, x_path.shape, y_path.shape)"
   ]
  },
  {
   "cell_type": "code",
   "execution_count": null,
   "id": "77f9c4df-cfe4-441a-97a8-d76a2b12513f",
   "metadata": {},
   "outputs": [],
   "source": [
    "# plot the temperature measurement and the path to tranverse\n",
    "\n",
    "fig = plt.figure(figsize=(7, 4))\n",
    "ax = fig.add_subplot()\n",
    "\n",
    "ax.set_xticks(np.arange(0, 3.1, 0.5))\n",
    "ax.set_yticks(np.arange(0, 2.1, 0.5))\n",
    "ax.set_aspect(\"equal\")\n",
    "\n",
    "s = ax.scatter(x_grid.flatten(), y_grid.flatten(), c=temp_grid.flatten(), cmap=\"plasma\")\n",
    "plt.plot(x_path, y_path, color=\"k\", marker=\"x\")\n",
    "\n",
    "ax.text(x_path[0] + 0.05, y_path[0], \"start\")\n",
    "ax.text(x_path[-1] - 0.25, y_path[-1] - 0.05, \"end\")\n",
    "\n",
    "cb = fig.colorbar(s)\n",
    "\n",
    "cb.set_label(\"Temperature (°C)\")\n",
    "\n",
    "plt.show()"
   ]
  },
  {
   "cell_type": "code",
   "execution_count": null,
   "id": "2fff7666-9363-4664-bddb-bdfbebf57efb",
   "metadata": {},
   "outputs": [],
   "source": [
    "# geneating the spline function\n",
    "# note that the dimension convention for z is flippped\n",
    "\n",
    "temp_interp = sint.RectBivariateSpline(\n",
    "    x_loc, y_loc, temp_grid.transpose(), kx=3, ky=3, s=0\n",
    ")"
   ]
  },
  {
   "cell_type": "code",
   "execution_count": null,
   "id": "f325e9c1-3737-4664-b9ab-7a91de704e14",
   "metadata": {},
   "outputs": [],
   "source": [
    "# create array of temperture along the path\n",
    "temp_path = temp_interp(x_path, y_path, grid=False)"
   ]
  },
  {
   "cell_type": "code",
   "execution_count": null,
   "id": "c187758d-3094-46ee-a636-5559c29feef6",
   "metadata": {},
   "outputs": [],
   "source": [
    "# plot temperature as function of time\n",
    "\n",
    "fig = plt.figure()\n",
    "ax = fig.add_subplot()\n",
    "\n",
    "ax.set_xlabel(\"Time (minutes)\")\n",
    "ax.set_ylabel(\"Temperature (°C)\")\n",
    "\n",
    "plt.plot(t_path, temp_path, color=\"k\", marker=\"x\")\n",
    "\n",
    "plt.show()"
   ]
  },
  {
   "cell_type": "markdown",
   "id": "0f3e8072-5d19-4081-9392-b7f2aeba15c8",
   "metadata": {
    "jp-MarkdownHeadingCollapsed": true
   },
   "source": [
    "### Smoothing spline on regular 2D grid"
   ]
  },
  {
   "cell_type": "code",
   "execution_count": null,
   "id": "e56227da-e10b-4a94-bba7-0d269f002e65",
   "metadata": {},
   "outputs": [],
   "source": [
    "# load the noisy data\n",
    "X_coords = magic.X_noisy.copy()\n",
    "Y_coords = magic.Y_noisy.copy()\n",
    "Z_noisy = magic.Z_noisy.copy()"
   ]
  },
  {
   "cell_type": "code",
   "execution_count": null,
   "id": "d211c761-7acb-4389-b674-142a8d273be1",
   "metadata": {},
   "outputs": [],
   "source": [
    "# plot noisy data\n",
    "\n",
    "fig = plt.figure(figsize=(7,4))\n",
    "ax = fig.add_subplot()\n",
    "ax.set_aspect(1)\n",
    "\n",
    "mesh = ax.pcolormesh(X_coords, Y_coords, Z_noisy, vmin=-5, vmax=5)\n",
    "cb = fig.colorbar(mesh)\n",
    "\n",
    "plt.show()"
   ]
  },
  {
   "cell_type": "code",
   "execution_count": null,
   "id": "ab4c0ff3-b99e-4fba-8aac-38353924fe88",
   "metadata": {},
   "outputs": [],
   "source": [
    "# Use smoothing spline as an attempt to recover underlying clean data\n",
    "# again note that the dimension convention for z is flippped\n",
    "Z_interp_func = sint.RectBivariateSpline(\n",
    "    X_coords, Y_coords, Z_noisy.transpose(), s = 0.3**2 * Z_noisy.size\n",
    ")"
   ]
  },
  {
   "cell_type": "code",
   "execution_count": null,
   "id": "d5c1846b-98e9-4c8a-a401-54110c6539b8",
   "metadata": {},
   "outputs": [],
   "source": [
    "# calculate the smoothened z-value on the grid\n",
    "Z_interp = Z_interp_func(X_coords, Y_coords, grid=True).transpose()"
   ]
  },
  {
   "cell_type": "code",
   "execution_count": null,
   "id": "62ec535c-4877-41d8-b9e8-ab5edac3239a",
   "metadata": {},
   "outputs": [],
   "source": [
    "# plot the smoothened data\n",
    "\n",
    "fig = plt.figure(figsize=(7,4))\n",
    "ax = fig.add_subplot()\n",
    "ax.set_aspect(1)\n",
    "\n",
    "mesh = ax.pcolormesh(X_coords, Y_coords, Z_interp, vmin=-5, vmax=5)\n",
    "cb = fig.colorbar(mesh)\n",
    "\n",
    "plt.show()"
   ]
  },
  {
   "cell_type": "code",
   "execution_count": null,
   "id": "f7297dfe-eff3-4515-bbf0-742ece5403e3",
   "metadata": {},
   "outputs": [],
   "source": [
    "# compare with ground truth\n",
    "Z_clean = magic.Z_clean.copy()\n",
    "\n",
    "fig = plt.figure(figsize=(7,4))\n",
    "ax = fig.add_subplot()\n",
    "ax.set_aspect(1)\n",
    "\n",
    "mesh = ax.pcolormesh(X_coords, Y_coords, Z_clean, vmin=-5, vmax=5)\n",
    "cb = fig.colorbar(mesh)\n",
    "\n",
    "plt.show()"
   ]
  },
  {
   "cell_type": "markdown",
   "id": "078d5525-2be7-4cbc-89c4-9189bbf127f8",
   "metadata": {
    "jp-MarkdownHeadingCollapsed": true
   },
   "source": [
    "### Interpolating non-gridded 2D data"
   ]
  },
  {
   "cell_type": "code",
   "execution_count": null,
   "id": "2b5b5001-9d91-4f32-bd4d-83750db23590",
   "metadata": {},
   "outputs": [],
   "source": [
    "# loading ungridded data of NO3- concentration\n",
    "x_stations = magic.x_stations.copy()\n",
    "y_stations = magic.y_stations.copy()\n",
    "no3_stations = magic.NO3_stations.copy()"
   ]
  },
  {
   "cell_type": "code",
   "execution_count": null,
   "id": "1b5ae801-44af-4d90-a5fa-7400beb32306",
   "metadata": {},
   "outputs": [],
   "source": [
    "# check the dimension of data\n",
    "print(x_stations.shape, y_stations.shape, no3_stations.shape)"
   ]
  },
  {
   "cell_type": "code",
   "execution_count": null,
   "id": "2deddd16-2005-4635-b3e1-bbb556aa0f80",
   "metadata": {},
   "outputs": [],
   "source": [
    "# plot the measured data\n",
    "\n",
    "fig = plt.figure(figsize=(7, 4))\n",
    "ax = fig.add_subplot()\n",
    "\n",
    "ax.set_xticks(np.arange(0, 31, 5))\n",
    "ax.set_yticks(np.arange(0, 21, 5))\n",
    "ax.set_aspect(\"equal\")\n",
    "\n",
    "s = ax.scatter(\n",
    "    x_stations, y_stations, c=no3_stations, \n",
    "    cmap=\"plasma\", vmin=0, vmax=7\n",
    ")\n",
    "cb = fig.colorbar(s)\n",
    "\n",
    "cb.set_label(\"Temperature (°C)\")\n",
    "\n",
    "plt.show()"
   ]
  },
  {
   "cell_type": "code",
   "execution_count": null,
   "id": "91055e10-5b2d-4a73-8db5-354fecbd7016",
   "metadata": {},
   "outputs": [],
   "source": [
    "# make cubic and linear interpolation\n",
    "\n",
    "no3_interp = sint.CloughTocher2DInterpolator(\n",
    "    np.vstack([x_stations, y_stations]).transpose(), no3_stations)\n",
    "no3_lin_interp = sint.LinearNDInterpolator(\n",
    "    np.vstack([x_stations, y_stations]).transpose(), no3_stations)"
   ]
  },
  {
   "cell_type": "code",
   "execution_count": null,
   "id": "c39edfcb-3c88-400f-a34e-9d7cf37a9f61",
   "metadata": {},
   "outputs": [],
   "source": [
    "# get interpolated value on a grid\n",
    "\n",
    "x_loc = np.linspace(0, 30, 91)\n",
    "y_loc = np.linspace(0, 20, 61)\n",
    "x_grid, y_grid = np.meshgrid(x_loc, y_loc)\n",
    "no3_grid = no3_interp(x_grid, y_grid)\n",
    "no3_lin_grid = no3_lin_interp(x_grid, y_grid)"
   ]
  },
  {
   "cell_type": "code",
   "execution_count": null,
   "id": "51af1f52-28ef-4233-a57d-134f1985eb5c",
   "metadata": {},
   "outputs": [],
   "source": [
    "# plot the result from cubic interpolation\n",
    "\n",
    "fig = plt.figure(figsize=(7, 4))\n",
    "ax = fig.add_subplot()\n",
    "\n",
    "ax.set_xticks(np.arange(0, 31, 5))\n",
    "ax.set_yticks(np.arange(0, 21, 5))\n",
    "ax.set_aspect(\"equal\")\n",
    "\n",
    "mesh = ax.pcolormesh(\n",
    "    x_loc, y_loc, no3_grid,\n",
    "    cmap=\"plasma\", vmin=0, vmax=7\n",
    ")\n",
    "\n",
    "pt = ax.scatter(x_stations, y_stations, c=\"k\")\n",
    "\n",
    "cb = fig.colorbar(mesh)\n",
    "cb.set_label(\"Temperature (°C)\")\n",
    "\n",
    "plt.show()"
   ]
  },
  {
   "cell_type": "code",
   "execution_count": null,
   "id": "a44d58bb-fa9d-4ca7-8bf9-077af57f037c",
   "metadata": {},
   "outputs": [],
   "source": [
    "# plot the result from linear interpolation\n",
    "\n",
    "fig = plt.figure(figsize=(7, 4))\n",
    "ax = fig.add_subplot()\n",
    "\n",
    "ax.set_xticks(np.arange(0, 31, 5))\n",
    "ax.set_yticks(np.arange(0, 21, 5))\n",
    "ax.set_aspect(\"equal\")\n",
    "\n",
    "mesh = ax.pcolormesh(\n",
    "    x_loc, y_loc, no3_lin_grid,\n",
    "    cmap=\"plasma\", vmin=0, vmax=7\n",
    ")\n",
    "\n",
    "pt = ax.scatter(x_stations, y_stations, c=\"k\")\n",
    "\n",
    "cb = fig.colorbar(mesh)\n",
    "cb.set_label(\"Temperature (°C)\")\n",
    "\n",
    "plt.show()"
   ]
  },
  {
   "cell_type": "code",
   "execution_count": null,
   "id": "48ccb94c-2860-442d-8e88-b95762f6693e",
   "metadata": {},
   "outputs": [],
   "source": [
    "# compare with ground truth\n",
    "\n",
    "# loading ground-truth data\n",
    "no3_truth = magic.NO3_2d_truth(x_grid, y_grid)\n",
    "\n",
    "# plot ground-truth data\n",
    "fig = plt.figure(figsize=(7, 4))\n",
    "ax = fig.add_subplot()\n",
    "\n",
    "ax.set_xticks(np.arange(0, 31, 5))\n",
    "ax.set_yticks(np.arange(0, 21, 5))\n",
    "ax.set_aspect(\"equal\")\n",
    "\n",
    "mesh = ax.pcolormesh(\n",
    "    x_loc, y_loc, no3_truth,\n",
    "    cmap=\"plasma\", vmin=0, vmax=7\n",
    ")\n",
    "\n",
    "pt = ax.scatter(x_stations, y_stations, c=\"k\")\n",
    "\n",
    "cb = fig.colorbar(mesh)\n",
    "cb.set_label(\"Temperature (°C)\")\n",
    "\n",
    "plt.show()"
   ]
  },
  {
   "cell_type": "markdown",
   "id": "b4a889ef-6801-4d06-b923-837488fcc521",
   "metadata": {
    "jp-MarkdownHeadingCollapsed": true
   },
   "source": [
    "### Exercise 3"
   ]
  },
  {
   "cell_type": "code",
   "execution_count": null,
   "id": "5bbf31f8-0371-4e02-9ec7-a0885db11392",
   "metadata": {},
   "outputs": [],
   "source": [
    "# starter code: load the data set\n",
    "\n",
    "data = xr.open_dataset(\"data/mercatorbiomer4v2r1_AmPac_mean_nut_20250131.nc\")\n",
    "display(data)"
   ]
  },
  {
   "cell_type": "code",
   "execution_count": null,
   "id": "8d8f97fd-8785-4192-905f-b3174966dc0e",
   "metadata": {},
   "outputs": [],
   "source": [
    "# starter code: get the paths\n",
    "probe_hour = magic.probe_hour.copy()\n",
    "probe_lat = magic.probe_lat.copy()\n",
    "probe_lon = magic.probe_lon.copy()\n",
    "probe_depth = magic.probe_depth.copy()"
   ]
  },
  {
   "cell_type": "code",
   "execution_count": null,
   "id": "b0a48570-a24a-4bb7-8a0c-023cb875f32f",
   "metadata": {},
   "outputs": [],
   "source": [
    "# start code: plot the path of the probe\n",
    "\n",
    "fig = plt.figure(figsize=(9, 4))\n",
    "ax1 = fig.add_subplot(1, 5, (1, 4), projection=ccrs.PlateCarree())\n",
    "ax2 = fig.add_subplot(1, 5, 5)\n",
    "\n",
    "ax1.set_extent([-150, -120, 30, 50], crs=ccrs.PlateCarree())\n",
    "ax1.coastlines()\n",
    "ax1.add_feature(cfeature.OCEAN, color=\"skyblue\")\n",
    "ax1.plot(probe_lon, probe_lat, c=\"k\", marker=\"x\")\n",
    "\n",
    "ax1.text(probe_lon[0]+0.2, probe_lat[0]+0.2, \"start\")\n",
    "ax1.text(probe_lon[-1]+0.4, probe_lat[-1]-0.4, \"end\")\n",
    "\n",
    "gl = ax1.gridlines(\n",
    "    crs=ccrs.PlateCarree(), draw_labels=True,\n",
    "    linewidth=1, color='darkgray', linestyle='--'\n",
    ")\n",
    "gl.left_labels = True\n",
    "gl.right_labels = False\n",
    "gl.top_labels = True\n",
    "gl.bottom_labels = False\n",
    "\n",
    "ax2.plot(probe_depth, probe_hour, c=\"k\", marker=\"x\")\n",
    "ax2.set_xlim(0, 110)\n",
    "ax2.invert_xaxis()\n",
    "ax2.set_xticks(np.arange(0, 101, 20))\n",
    "ax2.set_xlabel(\"depth (m)\")\n",
    "ax2.set_ylim(0, 24)\n",
    "ax2.invert_yaxis()\n",
    "ax2.set_yticks(np.arange(0, 24.5, 6))\n",
    "ax2.set_ylabel(\"hour\")\n",
    "\n",
    "plt.show(fig)"
   ]
  },
  {
   "cell_type": "code",
   "execution_count": null,
   "id": "31ce6afa-f121-430e-81ad-9f2d2a49d962",
   "metadata": {},
   "outputs": [],
   "source": [
    "# part 1: subset the data to a grid that contains no nan's"
   ]
  },
  {
   "cell_type": "code",
   "execution_count": null,
   "id": "c8caf23c-216b-43a8-944a-6d65ed003bad",
   "metadata": {},
   "outputs": [],
   "source": [
    "# part 2: perform cubic interpolation to obtain function-like object"
   ]
  },
  {
   "cell_type": "code",
   "execution_count": null,
   "id": "18dca4f0-029e-49cb-b8fd-367e68b80467",
   "metadata": {},
   "outputs": [],
   "source": [
    "# part 3: evaluate the interpolated function at path points\n",
    "# call the result probe_po4\n",
    "\n",
    "probe_po4 = ..."
   ]
  },
  {
   "cell_type": "code",
   "execution_count": null,
   "id": "9b4df89e-b4c4-44e4-aebb-518722cf2ca8",
   "metadata": {},
   "outputs": [],
   "source": [
    "# starter code: plot the result\n",
    "\n",
    "fig = plt.figure()\n",
    "ax = fig.add_subplot()\n",
    "\n",
    "plt.plot(probe_hour, probe_po4, ls=\"--\", color=\"k\", marker=\"x\")\n",
    "ax.set_ylabel(\"phosphate concentration (mmol/m$^3$)\")\n",
    "ax.set_xlim(0, 24)\n",
    "ax.set_xticks(np.arange(0, 24.5, 6))\n",
    "ax.set_xlabel(\"hour\")\n",
    "\n",
    "plt.show(fig)"
   ]
  },
  {
   "cell_type": "markdown",
   "id": "d810df56-d0b3-4bf0-b5eb-674f7fba73f6",
   "metadata": {
    "jp-MarkdownHeadingCollapsed": true
   },
   "source": [
    "### Exercise 4"
   ]
  },
  {
   "cell_type": "code",
   "execution_count": null,
   "id": "26480972-3e11-4314-9889-fd864e8c0e48",
   "metadata": {},
   "outputs": [],
   "source": [
    "# starter code: loading data\n",
    "\n",
    "probe_x = magic.probe_x.copy()\n",
    "probe_y = magic.probe_y.copy()\n",
    "probe_t = magic.probe_t.copy()\n",
    "probe_sal = magic.probe_sal.copy()"
   ]
  },
  {
   "cell_type": "code",
   "execution_count": null,
   "id": "d11ec6aa-991c-4bc4-bf69-6aa09b849083",
   "metadata": {},
   "outputs": [],
   "source": [
    "# starter code: plot the initial path\n",
    "# and salinity measurement along path\n",
    "\n",
    "fig, [ax1, ax2] = plt.subplots(2, 1, figsize=(6, 10))\n",
    "\n",
    "ax1.set_xlim(-10, 10)\n",
    "ax1.set_ylim(-10, 10)\n",
    "\n",
    "ax1.set_aspect(1)\n",
    "ax1.plot(probe_x, probe_y, \"k-x\")\n",
    "\n",
    "ax1.text(probe_x[0] - 2, probe_y[0] - 0.5, \"start\")\n",
    "ax1.text(probe_x[-1] + 0.2, probe_y[-1] + 0.3, \"end\")\n",
    "\n",
    "ax2.plot(probe_t, probe_sal, \"k--x\")\n",
    "\n",
    "plt.show(fig)"
   ]
  },
  {
   "cell_type": "code",
   "execution_count": null,
   "id": "31430bed-71f1-40ae-9f33-3cdabd75d658",
   "metadata": {},
   "outputs": [],
   "source": [
    "# starter code: plot salinity value at measurement location\n",
    "\n",
    "fig = plt.figure()\n",
    "ax = fig.add_subplot()\n",
    "\n",
    "ax.set_xlim(-10, 10)\n",
    "ax.set_ylim(-10, 10)\n",
    "\n",
    "ax.set_aspect(1)\n",
    "sc = ax.scatter(probe_x, probe_y, c=probe_sal, vmin=3, vmax=4)\n",
    "cb = fig.colorbar(sc)\n",
    "\n",
    "\n",
    "plt.show(fig)"
   ]
  },
  {
   "cell_type": "code",
   "execution_count": null,
   "id": "b761d523-dd83-411c-b99e-26accf95e617",
   "metadata": {},
   "outputs": [],
   "source": [
    "# part 1: create smoothing spline"
   ]
  },
  {
   "cell_type": "code",
   "execution_count": null,
   "id": "c927dabb-293c-4c5d-bcd0-f1bd4f9f5bc3",
   "metadata": {},
   "outputs": [],
   "source": [
    "# part 2: evaluate smoothed value on a grid\n",
    "# use the x-coordinates and y-coordinates provided\n",
    "# and call the result sal_grid\n",
    "\n",
    "x_coords = np.linspace(-10, 10, 51)\n",
    "y_coords = np.linspace(-10, 10, 51)\n",
    "\n",
    "sal_grid = ..."
   ]
  },
  {
   "cell_type": "code",
   "execution_count": null,
   "id": "2158079b-ec1a-46ec-b166-4dc6e762f023",
   "metadata": {},
   "outputs": [],
   "source": [
    "# starter code: plot the result\n",
    "\n",
    "fig = plt.figure()\n",
    "ax = fig.add_subplot()\n",
    "\n",
    "ax.set_xlim(-10, 10)\n",
    "ax.set_ylim(-10, 10)\n",
    "ax.set_aspect(1)\n",
    "\n",
    "mesh = ax.pcolormesh(x_coords, y_coords, sal_grid, vmin=3, vmax=4)\n",
    "cb = fig.colorbar(mesh)\n",
    "\n",
    "ax2.plot(probe_t, probe_sal, \"k--x\")\n",
    "\n",
    "plt.show(fig)"
   ]
  },
  {
   "cell_type": "code",
   "execution_count": null,
   "id": "ee5b7c94-a2d6-45a2-96c6-62fa46dd7d56",
   "metadata": {},
   "outputs": [],
   "source": []
  }
 ],
 "metadata": {
  "kernelspec": {
   "display_name": "Python 3 (ipykernel)",
   "language": "python",
   "name": "python3"
  },
  "language_info": {
   "codemirror_mode": {
    "name": "ipython",
    "version": 3
   },
   "file_extension": ".py",
   "mimetype": "text/x-python",
   "name": "python",
   "nbconvert_exporter": "python",
   "pygments_lexer": "ipython3",
   "version": "3.12.9"
  }
 },
 "nbformat": 4,
 "nbformat_minor": 5
}
